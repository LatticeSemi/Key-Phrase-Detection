{
 "cells": [
  {
   "cell_type": "markdown",
   "metadata": {},
   "source": [
    "# Human Presence Detection Training using Tensorflow\n"
   ]
  },
  {
   "cell_type": "markdown",
   "metadata": {},
   "source": [
    "#### Click on \"Kernel -> Restart & Run All\" to start\n",
    "#### Click on \"Kernel -> Shutdown\" before closing the window"
   ]
  },
  {
   "cell_type": "code",
   "execution_count": 1,
   "metadata": {},
   "outputs": [
    {
     "data": {
      "text/html": [
       "<script>\n",
       "code_show=true;\n",
       "function code_toggle() {\n",
       " if (code_show){\n",
       " $('div.input').hide();\n",
       " } else {\n",
       " $('div.input').show();\n",
       " }\n",
       " code_show = !code_show\n",
       "}\n",
       "$( document ).ready(code_toggle);\n",
       "</script>\n",
       "<form action=\"javascript:code_toggle()\"><input type=\"submit\" value=\"Click here to toggle on/off the raw code.\"></form>"
      ],
      "text/plain": [
       "<IPython.core.display.HTML object>"
      ]
     },
     "execution_count": 1,
     "metadata": {},
     "output_type": "execute_result"
    }
   ],
   "source": [
    "from IPython.display import HTML\n",
    "\n",
    "HTML('''<script>\n",
    "code_show=true;\n",
    "function code_toggle() {\n",
    " if (code_show){\n",
    " $('div.input').hide();\n",
    " } else {\n",
    " $('div.input').show();\n",
    " }\n",
    " code_show = !code_show\n",
    "}\n",
    "$( document ).ready(code_toggle);\n",
    "</script>\n",
    "<form action=\"javascript:code_toggle()\"><input type=\"submit\" value=\"Click here to toggle on/off the raw code.\"></form>''')"
   ]
  },
  {
   "cell_type": "code",
   "execution_count": 2,
   "metadata": {},
   "outputs": [],
   "source": [
    "import yaml\n",
    "import os\n",
    "from collections import OrderedDict \n",
    "config_data = OrderedDict()\n",
    "if 'CONFIG_FILE' not in os.environ:\n",
    "    os.environ['CONFIG_FILE'] = './' #config file path\n",
    "config_file = os.path.join(os.environ['CONFIG_FILE'], \"config.txt\")\n",
    "if os.path.isfile(config_file):\n",
    "    with open(config_file) as fp:\n",
    "        config_data = yaml.load(fp.read(), Loader=yaml.FullLoader)\n",
    "else:\n",
    "    config_data[\"DATA_DIR\"] = None\n",
    "    config_data[\"Log_dir\"] = None\n",
    "    config_data[\"FILTER_TRAIN_KEYWORD\"] = \"marvin,sheila,on,off,up,down,go,stop,left,right,yes,learn,visual,follow,no,cat,dog,bird,tree,house,bed,wow,happy,zero,one,two,three,four,five,six,seven,eight,nine,forward,backward\"\n",
    "    config_data[\"TRAIN_KEYWORD\"] = \"seven,marvin,on,happy\""
   ]
  },
  {
   "cell_type": "raw",
   "metadata": {},
   "source": [
    "Path to user's dataset:\n",
    "The volume which is shared by the host to docker environment should contain the dataset and train logs directory.\n",
    "Note that the dataset should be in format as mentioned below.\n",
    "dataset_root_direcory\n",
    "├── _background_noise_\n",
    "│   ├── <noise_1>.wav\n",
    "│   ├── ...\n",
    "│   └── <noise_n>.wav\n",
    "├── <Class-1-Name>\n",
    "│   ├── <wav_file_1>.wav\n",
    "│   ├── ...\n",
    "│   └── <wav_file_n>.wav\n",
    "├── ...    \n",
    "│\n",
    "└── <Class-n-Name>\n",
    "    ├── <wav_file_1>.wav\n",
    "    ├── ...\n",
    "    └── <wav_file_n>.wav\n",
    "Click the following \"Select dataset path\" button to select dataset path from your shared directory in docker environment. The path of shared folder in docker environment will same be as that in host machine."
   ]
  },
  {
   "cell_type": "code",
   "execution_count": 3,
   "metadata": {},
   "outputs": [
    {
     "data": {
      "application/vnd.jupyter.widget-view+json": {
       "model_id": "5cc0b909b1784310a42c6972cb8b1789",
       "version_major": 2,
       "version_minor": 0
      },
      "text/plain": [
       "HBox(children=(Text(value='', layout=Layout(width='30%')), SelectPathButton(description='Select dataset path',…"
      ]
     },
     "metadata": {},
     "output_type": "display_data"
    }
   ],
   "source": [
    "from ipywidgets import widgets\n",
    "from IPython.display import display\n",
    "from tkinter import Tk, filedialog\n",
    "data_dir = None\n",
    "\n",
    "class SelectPathButton(widgets.Button):\n",
    "    \"\"\"A file widget that leverages tkinter.filedialog.\"\"\"\n",
    "    def __init__(self):\n",
    "        super(SelectPathButton, self).__init__(layout=widgets.Layout(width='20%', height='30px'))\n",
    "        \n",
    "        self.description = \"Select dataset path\"\n",
    "        self.on_click(self.select_path)\n",
    "\n",
    "    @staticmethod\n",
    "    def select_path(b):\n",
    "        \"\"\"Generate instance of tkinter.filedialog.\n",
    "\n",
    "        Parameters\n",
    "        ----------\n",
    "        b : obj:\n",
    "            An instance of ipywidgets.widgets.Button \n",
    "        \"\"\"\n",
    "        # Create Tk root\n",
    "        root = Tk()\n",
    "        # Hide the main window\n",
    "        root.withdraw()\n",
    "        # Raise the root to the top of all windows.\n",
    "        root.call('wm', 'attributes', '.', '-topmost', True)\n",
    "        # List of selected fileswill be set to b.value\n",
    "        b.files = filedialog.askdirectory(initialdir = \"/\")\n",
    "        if b.files != ():\n",
    "            global data_dir\n",
    "            data_dir = b.files\n",
    "            path.value = data_dir\n",
    "            config_data[\"DATA_DIR\"] = data_dir\n",
    "            with open(config_file, 'w') as outf:\n",
    "                yaml.dump(config_data, outf, default_flow_style=False)\n",
    "                outf.close()\n",
    "        \n",
    "\n",
    "button = SelectPathButton()\n",
    "if config_data[\"DATA_DIR\"] is not None:\n",
    "    path = widgets.Text(layout=widgets.Layout(width='30%'), value=config_data[\"DATA_DIR\"])\n",
    "    data_dir = config_data[\"DATA_DIR\"]\n",
    "else:\n",
    "    path = widgets.Text(layout=widgets.Layout(width='30%'))\n",
    "\n",
    "widgets.HBox([path, button])"
   ]
  },
  {
   "cell_type": "markdown",
   "metadata": {},
   "source": [
    "### Training Configuration and Start Training\n",
    "#### User can customize the training parameters by changing the following values. \n",
    "1. __train directory:__ The volume which is shared by host to docker environment should contain a train logs directory. Using the \"Select train directory\" button select that path from docker. The path of shared folder in docker environment will same be as that in host machine.\n",
    "2. __Filter Training keywords:__ Name of all classes available in dataset direcory except background_noice.\n",
    "3. __Training keyword names:__ Name of keywords you want to train the model with."
   ]
  },
  {
   "cell_type": "code",
   "execution_count": 4,
   "metadata": {},
   "outputs": [
    {
     "data": {
      "application/vnd.jupyter.widget-view+json": {
       "model_id": "86247db283b74ce5bf0c636551cc43ef",
       "version_major": 2,
       "version_minor": 0
      },
      "text/plain": [
       "HBox(children=(Text(value='', layout=Layout(width='30%')), SelectPathButton(description='Select train director…"
      ]
     },
     "metadata": {},
     "output_type": "display_data"
    }
   ],
   "source": [
    "from ipywidgets import widgets\n",
    "from IPython.display import display\n",
    "from tkinter import Tk, filedialog\n",
    "train_dir = None\n",
    "class SelectPathButton(widgets.Button):\n",
    "    \"\"\"A file widget that leverages tkinter.filedialog.\"\"\"\n",
    "    def __init__(self):\n",
    "        super(SelectPathButton, self).__init__(layout=widgets.Layout(width='20%', height='30px'))\n",
    "        # Create the button.\n",
    "        self.description = \"Select train directory\"\n",
    "        self.on_click(self.select_path)\n",
    "\n",
    "    @staticmethod\n",
    "    def select_path(b):\n",
    "        \"\"\"Generate instance of tkinter.filedialog.\n",
    "\n",
    "        Parameters\n",
    "        ----------\n",
    "        b : obj:\n",
    "            An instance of ipywidgets.widgets.Button \n",
    "        \"\"\"\n",
    "        # Create Tk root\n",
    "        root = Tk()\n",
    "        # Hide the main window\n",
    "        root.withdraw()\n",
    "        # Raise the root to the top of all windows.\n",
    "        root.call('wm', 'attributes', '.', '-topmost', True)\n",
    "        # List of selected fileswill be set to b.value\n",
    "        b.files = filedialog.askdirectory(initialdir = \"/\")\n",
    "        if b.files != ():\n",
    "            global train_dir\n",
    "            train_dir = b.files\n",
    "            train_path.value = train_dir\n",
    "            config_data[\"Log_dir\"] = train_dir\n",
    "            with open(config_file, 'w') as outf:\n",
    "                yaml.dump(config_data, outf, default_flow_style=False)\n",
    "                outf.close()\n",
    "\n",
    "train_button = SelectPathButton()\n",
    "if config_data[\"Log_dir\"] is not None:\n",
    "    train_path = widgets.Text(layout=widgets.Layout(width='30%'), value=config_data[\"Log_dir\"])\n",
    "    train_dir = config_data[\"Log_dir\"]\n",
    "else:\n",
    "    train_path = widgets.Text(layout=widgets.Layout(width='30%'))\n",
    "\n",
    "widgets.HBox([train_path, train_button])"
   ]
  },
  {
   "cell_type": "code",
   "execution_count": 5,
   "metadata": {},
   "outputs": [
    {
     "name": "stdout",
     "output_type": "stream",
     "text": [
      "\u001b[1mHit ENTER on textbox after entering the keyword name !\n",
      "\u001b[0m\n"
     ]
    },
    {
     "data": {
      "application/vnd.jupyter.widget-view+json": {
       "model_id": "aaf487eeda3c4b1ba712f34661b154a8",
       "version_major": 2,
       "version_minor": 0
      },
      "text/plain": [
       "VBox(children=(HBox(children=(VBox(children=(Text(value='marvin,sheila,on,off,up,down,go,stop,left,right,yes,l…"
      ]
     },
     "metadata": {},
     "output_type": "display_data"
    }
   ],
   "source": [
    "import ipywidgets as widgets\n",
    "from IPython.display import display, clear_output\n",
    "import subprocess \n",
    "\n",
    "style = {'description_width': '100px'}\n",
    "layout = {'width': '800px'}\n",
    "\n",
    "print('\\033[1m' + \"Hit ENTER on textbox after entering the keyword name !\")\n",
    "print('\\033[0m')\n",
    "filter_keywords = widgets.Text(description = 'Filter keywords',value =config_data[\"FILTER_TRAIN_KEYWORD\"], disabled=False, style=style, layout=layout)\n",
    "training_keywords = widgets.Text(description = 'Training keywords',value =config_data[\"TRAIN_KEYWORD\"], disabled=False, style=style, layout=layout)\n",
    "run_filter_button = widgets.Button(description=\"Run Filter Training\", layout=widgets.Layout(width='25%', height='25px'))\n",
    "run_training_button = widgets.Button(description=\"Run Keyword Training\", layout=widgets.Layout(width='25%', height='25px'))\n",
    "training_out = widgets.Output()\n",
    "\n",
    "global f_keywords, t_keywords, owd\n",
    "owd = os.getcwd()\n",
    "os.environ['owd'] = os.getcwd()\n",
    "f_keywords = filter_keywords.value\n",
    "t_keywords = training_keywords.value\n",
    "    \n",
    "def callback_filter_key(sender):\n",
    "    global f_keywords\n",
    "    f_keywords = filter_keywords.value\n",
    "\n",
    "def callback_training_key(sender):\n",
    "    global t_keywords\n",
    "    t_keywords = training_keywords.value\n",
    "\n",
    "def on_filter_button_clicked(_):\n",
    "    with training_out:\n",
    "        global f_keywords, t_keywords\n",
    "        clear_output()\n",
    "        os.chdir(os.environ['owd'])\n",
    "        if train_dir is not None and data_dir is not None:\n",
    "            run_filter_button.disabled=True\n",
    "            run_training_button.disabled=True\n",
    "            print('\\033[1m' + \"To stop the running training, click Kernel->Interrupt option from menubar\")\n",
    "            print('\\033[0m')\n",
    "            os.environ['FILTER_TRAIN_KEYWORD'] = f_keywords\n",
    "            os.environ['TRAIN_KEYWORD'] = t_keywords\n",
    "            os.environ['DATA_DIR'] = data_dir\n",
    "            os.environ['LOG_DIR'] = train_dir\n",
    "            os.environ['FILTER_TRAIN_DIR'] = os.environ['LOG_DIR']+'/set8_seven.filter'\n",
    "            os.environ['TRAIN_DIR'] = os.environ['LOG_DIR']+'/set_prefilter'\n",
    "            os.environ['COMMON_OPT'] = '--model_architecture=tinyvgg_conv -sample_rate=8000 --downsample=1 --no_prefilter_bias --clip_duration_ms=1040 --time_shift_ms=140.0 --window_size_ms=32.0 --window_stride_ms=16.0 --dct_coefficient_count=64 --background_volume=0.5'\n",
    "            !python train.py $COMMON_OPT --wanted_words=$FILTER_TRAIN_KEYWORD --silence_percentage=5 --unknown_percentage=5 --how_many_training_steps=20000,20000,10000 --learning_rate=0.01,0.001,0.0001 --batch_size=100 --train_dir=$FILTER_TRAIN_DIR --data_dir=$DATA_DIR --summaries_dir=$LOG_DIR/cmd_seven.filter --data_url=  --optimizer=Adam\n",
    "            run_training_button.disabled=False\n",
    "            run_filter_button.disabled=False\n",
    "            with open(config_file, 'w') as outf:\n",
    "                config_data[\"FILTER_TRAIN_KEYWORD\"] = f_keywords\n",
    "                config_data[\"TRAIN_KEYWORD\"] = t_keywords\n",
    "                yaml.dump(config_data, outf, default_flow_style=False)\n",
    "                outf.close()\n",
    "        else:\n",
    "            print(\"Please select dataset and training directory\")\n",
    "\n",
    "def on_training_button_clicked(_):\n",
    "    with training_out:\n",
    "        global f_keywords, t_keywords\n",
    "        clear_output()\n",
    "        os.chdir(os.environ['owd'])\n",
    "        if train_dir is not None and data_dir is not None:\n",
    "            run_training_button.disabled=True\n",
    "            run_filter_button.disabled=True\n",
    "            print('\\033[1m' + \"To stop the running training, click Kernel->Interrupt option from menubar\")\n",
    "            print('\\033[0m')\n",
    "            os.environ['FILTER_TRAIN_KEYWORD'] = f_keywords\n",
    "            os.environ['TRAIN_KEYWORD'] = t_keywords\n",
    "            os.environ['DATA_DIR'] = data_dir\n",
    "            os.environ['LOG_DIR'] = train_dir\n",
    "            os.environ['FILTER_TRAIN_DIR'] = os.environ['LOG_DIR']+'/set8_seven.filter'\n",
    "            os.environ['TRAIN_DIR'] = os.environ['LOG_DIR']+'/set_prefilter'\n",
    "            os.environ['NETWORK']='tinyvgg_conv'\n",
    "            os.environ['TRAIN_OPT']=\"--optimizer=Adam --set_prefilter=\"+os.path.join(os.environ['FILTER_TRAIN_DIR'],\"tinyvgg_conv.ckpt-50000\")+\" --lock_prefilter\"\n",
    "            os.environ['COMMON_OPT']=\"--model_architecture=tinyvgg_conv --sample_rate=8000 --downsample=1 --no_prefilter_bias --clip_duration_ms=1040 --time_shift_ms=140.0 --window_size_ms=32.0 --window_stride_ms=16.0 --dct_coefficient_count=64 --background_volume=0.5\"\n",
    "            !python train.py $COMMON_OPT --wanted_words=$TRAIN_KEYWORD --silence_percentage=100 --unknown_percentage=100 --how_many_training_steps=20000,20000,10000 --learning_rate=0.01,0.001,0.0001 --batch_size=100 --train_dir=$TRAIN_DIR --data_dir=$DATA_DIR --summaries_dir=$LOG_DIR/cmd_seven $TRAIN_OPT\n",
    "            run_training_button.disabled=False\n",
    "            run_filter_button.disabled=False\n",
    "            with open(config_file, 'w') as outf:\n",
    "                config_data[\"FILTER_TRAIN_KEYWORD\"] = f_keywords\n",
    "                config_data[\"TRAIN_KEYWORD\"] = t_keywords\n",
    "                yaml.dump(config_data, outf, default_flow_style=False)\n",
    "                outf.close()\n",
    "        else:\n",
    "            print(\"Please select dataset and training directory\")\n",
    "\n",
    "run_filter_button.on_click(on_filter_button_clicked)\n",
    "run_training_button.on_click(on_training_button_clicked)\n",
    "filter_keywords.on_submit(callback_filter_key)\n",
    "training_keywords.on_submit(callback_training_key)\n",
    "\n",
    "widgets.VBox([widgets.HBox([widgets.VBox([filter_keywords, training_keywords,run_filter_button,run_training_button])]), training_out])"
   ]
  },
  {
   "cell_type": "markdown",
   "metadata": {},
   "source": [
    "### Training Status"
   ]
  },
  {
   "cell_type": "markdown",
   "metadata": {},
   "source": [
    "#### Tensorboard\n",
    "TensorBoard provides us with a suite of web applications that help us to inspect and understand the TensorFlow runs and graphs. Currently, it provides five types of visualizations: scalars, images, audio, histograms, and graphs."
   ]
  },
  {
   "cell_type": "code",
   "execution_count": 6,
   "metadata": {},
   "outputs": [
    {
     "data": {
      "application/vnd.jupyter.widget-view+json": {
       "model_id": "caa2b0e672fe457282575ebba0dcf25e",
       "version_major": 2,
       "version_minor": 0
      },
      "text/plain": [
       "ToggleButtons(options=('Filter training', 'Keyword training'), value='Filter training')"
      ]
     },
     "metadata": {},
     "output_type": "display_data"
    },
    {
     "data": {
      "application/vnd.jupyter.widget-view+json": {
       "model_id": "dbe1a01a885b466b9bd10ce146cd8a38",
       "version_major": 2,
       "version_minor": 0
      },
      "text/plain": [
       "ToggleButton(value=True, description='Launch Tensorboard', layout=Layout(height='50px', width='20%'))"
      ]
     },
     "metadata": {},
     "output_type": "display_data"
    }
   ],
   "source": [
    "import ipywidgets as widgets\n",
    "from IPython.display import display, HTML, clear_output\n",
    "import subprocess, os\n",
    "\n",
    "button_descriptions  = {False: \"Stop Tensorboard\", True: \"Launch Tensorboard\"}\n",
    "p = None\n",
    "out = widgets.Output()\n",
    "\n",
    "global toggle_button , opt\n",
    "opt = ['Filter training', 'Keyword training']\n",
    "toggle_button = widgets.ToggleButtons(\n",
    "    options=opt,\n",
    "    description='',\n",
    "    disabled=False,\n",
    "    button_style='')\n",
    "\n",
    "def button_action(value):\n",
    "    global p, toggle_button\n",
    "    os.chdir(os.environ['owd'])\n",
    "    if train_dir is not None:\n",
    "        if button.description == \"Launch Tensorboard\":\n",
    "            if toggle_button.value == opt[0]:\n",
    "                os.chdir(os.path.join(train_dir,'cmd_seven.filter/train'))\n",
    "            elif toggle_button.value == opt[1]:\n",
    "                os.chdir(os.path.join(train_dir,'cmd_seven/train'))\n",
    "            toggle_button.disabled=True\n",
    "            if [file for file in glob.glob(\"*.tfevents*\")] != []:\n",
    "                cmd = [\"tensorboard\", \"--logdir=./\"]\n",
    "                p = subprocess.Popen(cmd, stdout=subprocess.PIPE, stderr=subprocess.PIPE)\n",
    "                for line in p.stderr:\n",
    "                    if line.decode(\"utf8\").find(\"(Press CTRL+C to quit)\") > 0:\n",
    "                        print(line.decode(\"utf8\").split(\"(Press CTRL+C\")[0])\n",
    "                        state = False\n",
    "                        break\n",
    "                    else:\n",
    "                        print(line.decode(\"utf8\"))\n",
    "                        state = True\n",
    "            else:\n",
    "                print(\"No event file found in train directory\")\n",
    "                state = True\n",
    "        else:\n",
    "            if p is not None:\n",
    "                print(\"Tensorboard stopped\")\n",
    "                p.kill()\n",
    "                state = True\n",
    "                toggle_button.disabled=False\n",
    "        \n",
    "        value.owner.description = button_descriptions[state]\n",
    "    else:\n",
    "        print(\"Please select train directory\")\n",
    "\n",
    "\n",
    "state = True\n",
    "\n",
    "button = widgets.ToggleButton(state, description = button_descriptions[state], layout=widgets.Layout(width='20%', height='50px'))\n",
    "button.observe(button_action, \"value\")\n",
    "display(toggle_button, button)"
   ]
  },
  {
   "cell_type": "markdown",
   "metadata": {},
   "source": [
    "### Model Freezing\n",
    "#### Click the below button to generate the frozen pb from checkpoint and graph.pbtxt files. The pb file will easily pass through the sensAI tool. The generated pb file will be copied into the shared train directory so that it can be used in host environment."
   ]
  },
  {
   "cell_type": "code",
   "execution_count": 7,
   "metadata": {},
   "outputs": [
    {
     "data": {
      "application/vnd.jupyter.widget-view+json": {
       "model_id": "4cca2bf802634d3aaa0c98519971c402",
       "version_major": 2,
       "version_minor": 0
      },
      "text/plain": [
       "VBox(children=(Button(description='Model Freezing', layout=Layout(height='50px', width='20%'), style=ButtonSty…"
      ]
     },
     "metadata": {},
     "output_type": "display_data"
    }
   ],
   "source": [
    "import ipywidgets as widgets\n",
    "from IPython.display import display, clear_output\n",
    "import tensorflow as tf\n",
    "import os, glob\n",
    "\n",
    "freeze_button = widgets.Button(description=\"Model Freezing\", layout=widgets.Layout(width='20%', height='50px'))\n",
    "freeze_out = widgets.Output()\n",
    "\n",
    "def on_button_clicked(_):\n",
    "    with freeze_out:\n",
    "        clear_output()\n",
    "        os.chdir(owd)\n",
    "        if train_dir is not None:\n",
    "            print(\"Model freezing with the latest checkpoint\")\n",
    "            !python train.py $COMMON_OPT --freeze --train_dir=$TRAIN_DIR --data_dir=$DATA_DIR --wanted_words=$TRAIN_KEYWORD\n",
    "            !python genpb.py --ckpt_dir $LOG_DIR/set_prefilter\n",
    "            os.chdir(os.environ['LOG_DIR']+'/set_prefilter')\n",
    "            if \"SAVE_FILE_PATH\" in os.environ:\n",
    "                !cp *.pb $SAVE_FILE_PATH\n",
    "            else:\n",
    "                !cp *.pb $owd\n",
    "                print(\"Save File path is not set!, coping the fozenpb to root direcory !\")\n",
    "            os.chdir(owd)\n",
    "            print(\"Model .pb generated and copied to train directory\")\n",
    "        else:\n",
    "            print(\"Please select train directory\")\n",
    "             \n",
    "\n",
    "# linking button and function together using a button's method\n",
    "freeze_button.on_click(on_button_clicked)\n",
    "# displaying button and its output together\n",
    "widgets.VBox([freeze_button, freeze_out])"
   ]
  }
 ],
 "metadata": {
  "jupytext": {
   "cell_metadata_filter": "-all",
   "main_language": "python",
   "notebook_metadata_filter": "-all"
  },
  "kernelspec": {
   "display_name": "Python 3",
   "language": "python",
   "name": "python3"
  },
  "language_info": {
   "codemirror_mode": {
    "name": "ipython",
    "version": 3
   },
   "file_extension": ".py",
   "mimetype": "text/x-python",
   "name": "python",
   "nbconvert_exporter": "python",
   "pygments_lexer": "ipython3",
   "version": "3.6.9"
  }
 },
 "nbformat": 4,
 "nbformat_minor": 2
}
